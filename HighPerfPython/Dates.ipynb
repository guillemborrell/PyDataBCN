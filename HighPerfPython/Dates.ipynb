{
 "cells": [
  {
   "cell_type": "code",
   "execution_count": 1,
   "metadata": {
    "collapsed": true
   },
   "outputs": [],
   "source": [
    "import pandas as pd\n",
    "import numpy as np\n",
    "from dateutil.relativedelta import relativedelta\n",
    "from datetime import date\n",
    "\n",
    "%load_ext snakeviz"
   ]
  },
  {
   "cell_type": "code",
   "execution_count": 2,
   "metadata": {
    "collapsed": true
   },
   "outputs": [],
   "source": [
    "dtl = [date(2000, 1, 1)+relativedelta(days=i) for i in range(100)]"
   ]
  },
  {
   "cell_type": "code",
   "execution_count": 3,
   "metadata": {
    "collapsed": true
   },
   "outputs": [],
   "source": [
    "dti = pd.DatetimeIndex(start='01-01-2000', freq='d', periods=100)"
   ]
  },
  {
   "cell_type": "code",
   "execution_count": 4,
   "metadata": {},
   "outputs": [
    {
     "data": {
      "text/plain": [
       "array([ 1,  2,  3,  4,  5,  6,  7,  8,  9, 10, 11, 12, 13, 14, 15, 16, 17,\n",
       "       18, 19, 20, 21, 22, 23, 24, 25, 26, 27, 28, 29, 30, 31,  1,  2,  3,\n",
       "        4,  5,  6,  7,  8,  9, 10, 11, 12, 13, 14, 15, 16, 17, 18, 19, 20,\n",
       "       21, 22, 23, 24, 25, 26, 27, 28, 29,  1,  2,  3,  4,  5,  6,  7,  8,\n",
       "        9, 10, 11, 12, 13, 14, 15, 16, 17, 18, 19, 20, 21, 22, 23, 24, 25,\n",
       "       26, 27, 28, 29, 30, 31,  1,  2,  3,  4,  5,  6,  7,  8,  9], dtype=int32)"
      ]
     },
     "execution_count": 4,
     "metadata": {},
     "output_type": "execute_result"
    }
   ],
   "source": [
    "dti.day"
   ]
  },
  {
   "cell_type": "code",
   "execution_count": 5,
   "metadata": {},
   "outputs": [
    {
     "data": {
      "text/plain": [
       "Timestamp('2000-01-01 00:00:00', freq='D')"
      ]
     },
     "execution_count": 5,
     "metadata": {},
     "output_type": "execute_result"
    }
   ],
   "source": [
    "dti[0]"
   ]
  },
  {
   "cell_type": "code",
   "execution_count": 6,
   "metadata": {},
   "outputs": [
    {
     "data": {
      "text/plain": [
       "numpy.datetime64('2000-01-01T00:00:00.000000000')"
      ]
     },
     "execution_count": 6,
     "metadata": {},
     "output_type": "execute_result"
    }
   ],
   "source": [
    "dti[0].asm8"
   ]
  },
  {
   "cell_type": "code",
   "execution_count": 7,
   "metadata": {},
   "outputs": [
    {
     "data": {
      "text/plain": [
       "array(['2000-01-02T00:00:00.000000000', '2000-01-03T00:00:00.000000000',\n",
       "       '2000-01-04T00:00:00.000000000', '2000-01-05T00:00:00.000000000',\n",
       "       '2000-01-06T00:00:00.000000000', '2000-01-07T00:00:00.000000000',\n",
       "       '2000-01-08T00:00:00.000000000', '2000-01-09T00:00:00.000000000',\n",
       "       '2000-01-10T00:00:00.000000000', '2000-01-11T00:00:00.000000000',\n",
       "       '2000-01-12T00:00:00.000000000', '2000-01-13T00:00:00.000000000',\n",
       "       '2000-01-14T00:00:00.000000000', '2000-01-15T00:00:00.000000000',\n",
       "       '2000-01-16T00:00:00.000000000', '2000-01-17T00:00:00.000000000',\n",
       "       '2000-01-18T00:00:00.000000000', '2000-01-19T00:00:00.000000000',\n",
       "       '2000-01-20T00:00:00.000000000', '2000-01-21T00:00:00.000000000',\n",
       "       '2000-01-22T00:00:00.000000000', '2000-01-23T00:00:00.000000000',\n",
       "       '2000-01-24T00:00:00.000000000', '2000-01-25T00:00:00.000000000',\n",
       "       '2000-01-26T00:00:00.000000000', '2000-01-27T00:00:00.000000000',\n",
       "       '2000-01-28T00:00:00.000000000', '2000-01-29T00:00:00.000000000',\n",
       "       '2000-01-30T00:00:00.000000000', '2000-01-31T00:00:00.000000000',\n",
       "       '2000-02-01T00:00:00.000000000', '2000-02-02T00:00:00.000000000',\n",
       "       '2000-02-03T00:00:00.000000000', '2000-02-04T00:00:00.000000000',\n",
       "       '2000-02-05T00:00:00.000000000', '2000-02-06T00:00:00.000000000',\n",
       "       '2000-02-07T00:00:00.000000000', '2000-02-08T00:00:00.000000000',\n",
       "       '2000-02-09T00:00:00.000000000', '2000-02-10T00:00:00.000000000',\n",
       "       '2000-02-11T00:00:00.000000000', '2000-02-12T00:00:00.000000000',\n",
       "       '2000-02-13T00:00:00.000000000', '2000-02-14T00:00:00.000000000',\n",
       "       '2000-02-15T00:00:00.000000000', '2000-02-16T00:00:00.000000000',\n",
       "       '2000-02-17T00:00:00.000000000', '2000-02-18T00:00:00.000000000',\n",
       "       '2000-02-19T00:00:00.000000000', '2000-02-20T00:00:00.000000000',\n",
       "       '2000-02-21T00:00:00.000000000', '2000-02-22T00:00:00.000000000',\n",
       "       '2000-02-23T00:00:00.000000000', '2000-02-24T00:00:00.000000000',\n",
       "       '2000-02-25T00:00:00.000000000', '2000-02-26T00:00:00.000000000',\n",
       "       '2000-02-27T00:00:00.000000000', '2000-02-28T00:00:00.000000000',\n",
       "       '2000-02-29T00:00:00.000000000', '2000-03-01T00:00:00.000000000',\n",
       "       '2000-03-02T00:00:00.000000000', '2000-03-03T00:00:00.000000000',\n",
       "       '2000-03-04T00:00:00.000000000', '2000-03-05T00:00:00.000000000',\n",
       "       '2000-03-06T00:00:00.000000000', '2000-03-07T00:00:00.000000000',\n",
       "       '2000-03-08T00:00:00.000000000', '2000-03-09T00:00:00.000000000',\n",
       "       '2000-03-10T00:00:00.000000000', '2000-03-11T00:00:00.000000000',\n",
       "       '2000-03-12T00:00:00.000000000', '2000-03-13T00:00:00.000000000',\n",
       "       '2000-03-14T00:00:00.000000000', '2000-03-15T00:00:00.000000000',\n",
       "       '2000-03-16T00:00:00.000000000', '2000-03-17T00:00:00.000000000',\n",
       "       '2000-03-18T00:00:00.000000000', '2000-03-19T00:00:00.000000000',\n",
       "       '2000-03-20T00:00:00.000000000', '2000-03-21T00:00:00.000000000',\n",
       "       '2000-03-22T00:00:00.000000000', '2000-03-23T00:00:00.000000000',\n",
       "       '2000-03-24T00:00:00.000000000', '2000-03-25T00:00:00.000000000',\n",
       "       '2000-03-26T00:00:00.000000000', '2000-03-27T00:00:00.000000000',\n",
       "       '2000-03-28T00:00:00.000000000', '2000-03-29T00:00:00.000000000',\n",
       "       '2000-03-30T00:00:00.000000000', '2000-03-31T00:00:00.000000000',\n",
       "       '2000-04-01T00:00:00.000000000', '2000-04-02T00:00:00.000000000',\n",
       "       '2000-04-03T00:00:00.000000000', '2000-04-04T00:00:00.000000000',\n",
       "       '2000-04-05T00:00:00.000000000', '2000-04-06T00:00:00.000000000',\n",
       "       '2000-04-07T00:00:00.000000000', '2000-04-08T00:00:00.000000000',\n",
       "       '2000-04-09T00:00:00.000000000', '2000-04-10T00:00:00.000000000'], dtype='datetime64[ns]')"
      ]
     },
     "execution_count": 7,
     "metadata": {},
     "output_type": "execute_result"
    }
   ],
   "source": [
    "dti.values + np.timedelta64(1, 'D')"
   ]
  },
  {
   "cell_type": "code",
   "execution_count": 8,
   "metadata": {},
   "outputs": [
    {
     "ename": "TypeError",
     "evalue": "Cannot get a common metadata divisor for NumPy datetime metadata [ns] and [M] because they have incompatible nonlinear base time units",
     "output_type": "error",
     "traceback": [
      "\u001b[0;31m---------------------------------------------------------------------------\u001b[0m",
      "\u001b[0;31mTypeError\u001b[0m                                 Traceback (most recent call last)",
      "\u001b[0;32m<ipython-input-8-84ec02af92ff>\u001b[0m in \u001b[0;36m<module>\u001b[0;34m()\u001b[0m\n\u001b[0;32m----> 1\u001b[0;31m \u001b[0mdti\u001b[0m\u001b[0;34m.\u001b[0m\u001b[0mvalues\u001b[0m \u001b[0;34m+\u001b[0m \u001b[0mnp\u001b[0m\u001b[0;34m.\u001b[0m\u001b[0mtimedelta64\u001b[0m\u001b[0;34m(\u001b[0m\u001b[0;36m1\u001b[0m\u001b[0;34m,\u001b[0m \u001b[0;34m'M'\u001b[0m\u001b[0;34m)\u001b[0m\u001b[0;34m\u001b[0m\u001b[0m\n\u001b[0m",
      "\u001b[0;31mTypeError\u001b[0m: Cannot get a common metadata divisor for NumPy datetime metadata [ns] and [M] because they have incompatible nonlinear base time units"
     ]
    }
   ],
   "source": [
    "dti.values + np.timedelta64(1, 'M')"
   ]
  },
  {
   "cell_type": "code",
   "execution_count": 9,
   "metadata": {
    "collapsed": true
   },
   "outputs": [],
   "source": [
    "d = np.datetime64('2000-01-01')"
   ]
  },
  {
   "cell_type": "code",
   "execution_count": 10,
   "metadata": {},
   "outputs": [
    {
     "data": {
      "text/plain": [
       "10957"
      ]
     },
     "execution_count": 10,
     "metadata": {},
     "output_type": "execute_result"
    }
   ],
   "source": [
    "d.astype(np.int)"
   ]
  },
  {
   "cell_type": "code",
   "execution_count": 11,
   "metadata": {
    "collapsed": true
   },
   "outputs": [],
   "source": [
    "d = np.datetime64('2000-01-01', 'ns')"
   ]
  },
  {
   "cell_type": "code",
   "execution_count": 12,
   "metadata": {},
   "outputs": [
    {
     "data": {
      "text/plain": [
       "946684800000000000"
      ]
     },
     "execution_count": 12,
     "metadata": {},
     "output_type": "execute_result"
    }
   ],
   "source": [
    "d.astype(np.int)"
   ]
  },
  {
   "cell_type": "code",
   "execution_count": 13,
   "metadata": {},
   "outputs": [
    {
     "data": {
      "text/plain": [
       "array([946684800000000000, 946771200000000000, 946857600000000000,\n",
       "       946944000000000000, 947030400000000000, 947116800000000000,\n",
       "       947203200000000000, 947289600000000000, 947376000000000000,\n",
       "       947462400000000000, 947548800000000000, 947635200000000000,\n",
       "       947721600000000000, 947808000000000000, 947894400000000000,\n",
       "       947980800000000000, 948067200000000000, 948153600000000000,\n",
       "       948240000000000000, 948326400000000000, 948412800000000000,\n",
       "       948499200000000000, 948585600000000000, 948672000000000000,\n",
       "       948758400000000000, 948844800000000000, 948931200000000000,\n",
       "       949017600000000000, 949104000000000000, 949190400000000000,\n",
       "       949276800000000000, 949363200000000000, 949449600000000000,\n",
       "       949536000000000000, 949622400000000000, 949708800000000000,\n",
       "       949795200000000000, 949881600000000000, 949968000000000000,\n",
       "       950054400000000000, 950140800000000000, 950227200000000000,\n",
       "       950313600000000000, 950400000000000000, 950486400000000000,\n",
       "       950572800000000000, 950659200000000000, 950745600000000000,\n",
       "       950832000000000000, 950918400000000000, 951004800000000000,\n",
       "       951091200000000000, 951177600000000000, 951264000000000000,\n",
       "       951350400000000000, 951436800000000000, 951523200000000000,\n",
       "       951609600000000000, 951696000000000000, 951782400000000000,\n",
       "       951868800000000000, 951955200000000000, 952041600000000000,\n",
       "       952128000000000000, 952214400000000000, 952300800000000000,\n",
       "       952387200000000000, 952473600000000000, 952560000000000000,\n",
       "       952646400000000000, 952732800000000000, 952819200000000000,\n",
       "       952905600000000000, 952992000000000000, 953078400000000000,\n",
       "       953164800000000000, 953251200000000000, 953337600000000000,\n",
       "       953424000000000000, 953510400000000000, 953596800000000000,\n",
       "       953683200000000000, 953769600000000000, 953856000000000000,\n",
       "       953942400000000000, 954028800000000000, 954115200000000000,\n",
       "       954201600000000000, 954288000000000000, 954374400000000000,\n",
       "       954460800000000000, 954547200000000000, 954633600000000000,\n",
       "       954720000000000000, 954806400000000000, 954892800000000000,\n",
       "       954979200000000000, 955065600000000000, 955152000000000000,\n",
       "       955238400000000000])"
      ]
     },
     "execution_count": 13,
     "metadata": {},
     "output_type": "execute_result"
    }
   ],
   "source": [
    "dti.asi8"
   ]
  },
  {
   "cell_type": "code",
   "execution_count": 14,
   "metadata": {},
   "outputs": [
    {
     "data": {
      "text/plain": [
       "array([ 10957.,  10958.,  10959.,  10960.,  10961.,  10962.,  10963.,\n",
       "        10964.,  10965.,  10966.,  10967.,  10968.,  10969.,  10970.,\n",
       "        10971.,  10972.,  10973.,  10974.,  10975.,  10976.,  10977.,\n",
       "        10978.,  10979.,  10980.,  10981.,  10982.,  10983.,  10984.,\n",
       "        10985.,  10986.,  10987.,  10988.,  10989.,  10990.,  10991.,\n",
       "        10992.,  10993.,  10994.,  10995.,  10996.,  10997.,  10998.,\n",
       "        10999.,  11000.,  11001.,  11002.,  11003.,  11004.,  11005.,\n",
       "        11006.,  11007.,  11008.,  11009.,  11010.,  11011.,  11012.,\n",
       "        11013.,  11014.,  11015.,  11016.,  11017.,  11018.,  11019.,\n",
       "        11020.,  11021.,  11022.,  11023.,  11024.,  11025.,  11026.,\n",
       "        11027.,  11028.,  11029.,  11030.,  11031.,  11032.,  11033.,\n",
       "        11034.,  11035.,  11036.,  11037.,  11038.,  11039.,  11040.,\n",
       "        11041.,  11042.,  11043.,  11044.,  11045.,  11046.,  11047.,\n",
       "        11048.,  11049.,  11050.,  11051.,  11052.,  11053.,  11054.,\n",
       "        11055.,  11056.])"
      ]
     },
     "execution_count": 14,
     "metadata": {},
     "output_type": "execute_result"
    }
   ],
   "source": [
    "dti.asi8/(24*60*60*1E9)"
   ]
  },
  {
   "cell_type": "code",
   "execution_count": 15,
   "metadata": {},
   "outputs": [
    {
     "name": "stdout",
     "output_type": "stream",
     "text": [
      " \n",
      "*** Profile stats marshalled to file '/tmp/tmph61y9tlt'. \n"
     ]
    }
   ],
   "source": [
    "%snakeviz dti[0] + pd.DateOffset(years=1, months=1, days=29)"
   ]
  },
  {
   "cell_type": "code",
   "execution_count": 17,
   "metadata": {
    "collapsed": true
   },
   "outputs": [],
   "source": [
    "from custom_offsets import PrecomputedOffset"
   ]
  },
  {
   "cell_type": "code",
   "execution_count": 18,
   "metadata": {},
   "outputs": [],
   "source": [
    "offset = PrecomputedOffset(years=1, months=1, days=29)"
   ]
  },
  {
   "cell_type": "code",
   "execution_count": 19,
   "metadata": {},
   "outputs": [
    {
     "name": "stdout",
     "output_type": "stream",
     "text": [
      "base       int64\n",
      "decades    int64\n",
      "months     int64\n",
      "years      int64\n",
      "dtype: object\n"
     ]
    }
   ],
   "source": [
    "print(offset.offsets.dtypes)"
   ]
  },
  {
   "cell_type": "code",
   "execution_count": 20,
   "metadata": {},
   "outputs": [
    {
     "name": "stdout",
     "output_type": "stream",
     "text": [
      "The slowest run took 4.48 times longer than the fastest. This could mean that an intermediate result is being cached.\n",
      "1000 loops, best of 3: 236 µs per loop\n"
     ]
    }
   ],
   "source": [
    "%timeit dti + pd.DateOffset(years=1, months=1, days=0)"
   ]
  },
  {
   "cell_type": "code",
   "execution_count": 21,
   "metadata": {},
   "outputs": [
    {
     "name": "stdout",
     "output_type": "stream",
     "text": [
      "The slowest run took 12.60 times longer than the fastest. This could mean that an intermediate result is being cached.\n",
      "10000 loops, best of 3: 70.8 µs per loop\n"
     ]
    }
   ],
   "source": [
    "%timeit dti + PrecomputedOffset(years=1, months=1, days=0)"
   ]
  },
  {
   "cell_type": "code",
   "execution_count": 22,
   "metadata": {},
   "outputs": [
    {
     "name": "stdout",
     "output_type": "stream",
     "text": [
      "The slowest run took 12.50 times longer than the fastest. This could mean that an intermediate result is being cached.\n",
      "10000 loops, best of 3: 43.9 µs per loop\n"
     ]
    }
   ],
   "source": [
    "%timeit dti[0] + pd.DateOffset(years=30, months=1, days=28)"
   ]
  },
  {
   "cell_type": "code",
   "execution_count": 23,
   "metadata": {},
   "outputs": [
    {
     "name": "stdout",
     "output_type": "stream",
     "text": [
      "The slowest run took 5.20 times longer than the fastest. This could mean that an intermediate result is being cached.\n",
      "10000 loops, best of 3: 47.3 µs per loop\n"
     ]
    }
   ],
   "source": [
    "%timeit dti[0] + PrecomputedOffset(years=30, months=1, days=28)"
   ]
  },
  {
   "cell_type": "code",
   "execution_count": 24,
   "metadata": {},
   "outputs": [
    {
     "name": "stdout",
     "output_type": "stream",
     "text": [
      " \n",
      "*** Profile stats marshalled to file '/tmp/tmp_p49srmk'. \n"
     ]
    }
   ],
   "source": [
    "%snakeviz dti + PrecomputedOffset(years=39, months=7, days=28)"
   ]
  },
  {
   "cell_type": "code",
   "execution_count": null,
   "metadata": {
    "collapsed": true
   },
   "outputs": [],
   "source": []
  }
 ],
 "metadata": {
  "kernelspec": {
   "display_name": "Python 3",
   "language": "python",
   "name": "python3"
  },
  "language_info": {
   "codemirror_mode": {
    "name": "ipython",
    "version": 3
   },
   "file_extension": ".py",
   "mimetype": "text/x-python",
   "name": "python",
   "nbconvert_exporter": "python",
   "pygments_lexer": "ipython3",
   "version": "3.6.0"
  }
 },
 "nbformat": 4,
 "nbformat_minor": 2
}
