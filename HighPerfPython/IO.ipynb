{
 "cells": [
  {
   "cell_type": "code",
   "execution_count": 1,
   "metadata": {
    "collapsed": true
   },
   "outputs": [],
   "source": [
    "import pandas as pd\n",
    "import numpy as np\n",
    "from time import perf_counter"
   ]
  },
  {
   "cell_type": "code",
   "execution_count": 2,
   "metadata": {
    "collapsed": true
   },
   "outputs": [],
   "source": [
    "td = pd.DataFrame.from_records(np.random.randn(1000000, 10), columns=list('abcdefghij'))"
   ]
  },
  {
   "cell_type": "code",
   "execution_count": 3,
   "metadata": {},
   "outputs": [
    {
     "name": "stdout",
     "output_type": "stream",
     "text": [
      "18.007173412000157\n"
     ]
    }
   ],
   "source": [
    "tic = perf_counter()\n",
    "td.to_csv('something.csv')\n",
    "print(perf_counter() - tic)"
   ]
  },
  {
   "cell_type": "code",
   "execution_count": 4,
   "metadata": {},
   "outputs": [
    {
     "name": "stdout",
     "output_type": "stream",
     "text": [
      "0.2792238729998644\n"
     ]
    }
   ],
   "source": [
    "tic = perf_counter()\n",
    "td.to_msgpack('something.mspk')\n",
    "print(perf_counter() - tic)"
   ]
  },
  {
   "cell_type": "code",
   "execution_count": 5,
   "metadata": {
    "scrolled": true
   },
   "outputs": [
    {
     "name": "stdout",
     "output_type": "stream",
     "text": [
      "0.9678348190000179\n"
     ]
    }
   ],
   "source": [
    "tic = perf_counter()\n",
    "td.to_hdf('something.h5', '/test')\n",
    "print(perf_counter() - tic)"
   ]
  },
  {
   "cell_type": "code",
   "execution_count": 2,
   "metadata": {},
   "outputs": [],
   "source": [
    "import feather"
   ]
  },
  {
   "cell_type": "code",
   "execution_count": 7,
   "metadata": {},
   "outputs": [
    {
     "name": "stdout",
     "output_type": "stream",
     "text": [
      "0.10822407699993164\n"
     ]
    }
   ],
   "source": [
    "tic = perf_counter()\n",
    "feather.write_dataframe(td, 'something.feather')\n",
    "print(perf_counter() - tic)"
   ]
  },
  {
   "cell_type": "code",
   "execution_count": 8,
   "metadata": {
    "collapsed": true
   },
   "outputs": [],
   "source": [
    "import fastparquet"
   ]
  },
  {
   "cell_type": "code",
   "execution_count": 11,
   "metadata": {},
   "outputs": [
    {
     "name": "stdout",
     "output_type": "stream",
     "text": [
      "3.822317546000022\n"
     ]
    }
   ],
   "source": [
    "tic = perf_counter()\n",
    "fastparquet.write('something.parq', td, compression='GZIP')\n",
    "print(perf_counter() - tic)"
   ]
  },
  {
   "cell_type": "code",
   "execution_count": 31,
   "metadata": {
    "collapsed": true
   },
   "outputs": [],
   "source": [
    "from sqlalchemy import create_engine, Table, MetaData, Column, Float, BigInteger\n",
    "engine = create_engine('sqlite:///something.db')"
   ]
  },
  {
   "cell_type": "code",
   "execution_count": 32,
   "metadata": {},
   "outputs": [
    {
     "name": "stdout",
     "output_type": "stream",
     "text": [
      "17.52586600500217\n"
     ]
    }
   ],
   "source": [
    "# Do this and blow your memory up for 1M records\n",
    "tic = perf_counter()\n",
    "td.to_sql('test1', engine, chunksize=10000) \n",
    "print(perf_counter() - tic)"
   ]
  },
  {
   "cell_type": "code",
   "execution_count": 13,
   "metadata": {
    "collapsed": true
   },
   "outputs": [],
   "source": [
    "%load_ext line_profiler"
   ]
  },
  {
   "cell_type": "code",
   "execution_count": 33,
   "metadata": {
    "collapsed": true
   },
   "outputs": [],
   "source": [
    "metadata = MetaData()\n",
    "\n",
    "test_table = Table('test', metadata, \n",
    "                   Column('index', BigInteger, index=True),\n",
    "                   Column('a', Float),\n",
    "                   Column('b', Float),\n",
    "                   Column('c', Float),\n",
    "                   Column('d', Float),\n",
    "                   Column('e', Float),\n",
    "                   Column('f', Float),\n",
    "                   Column('g', Float),\n",
    "                   Column('h', Float),\n",
    "                   Column('i', Float),\n",
    "                   Column('j', Float))\n",
    "\n",
    "metadata.create_all(engine)\n",
    "connection = engine.connect()\n",
    "\n",
    "def chunked_sql(connection, df):\n",
    "    def chunker(seq, size):\n",
    "        return (seq[pos:pos + size] for pos in range(0, len(seq), size))\n",
    "\n",
    "    tic = perf_counter()\n",
    "\n",
    "    for chunk in chunker(df, 10000):\n",
    "        params = [c[1].to_dict() for c in chunk.iterrows()]\n",
    "        connection.execute(test_table.insert(), params)\n",
    "    print(perf_counter() - tic)"
   ]
  },
  {
   "cell_type": "code",
   "execution_count": 34,
   "metadata": {
    "scrolled": true
   },
   "outputs": [
    {
     "name": "stdout",
     "output_type": "stream",
     "text": [
      "69.7622901759969\n"
     ]
    }
   ],
   "source": [
    "chunked_sql(connection, td)"
   ]
  },
  {
   "cell_type": "code",
   "execution_count": 20,
   "metadata": {},
   "outputs": [
    {
     "name": "stdout",
     "output_type": "stream",
     "text": [
      "14.059273199003655\n"
     ]
    }
   ],
   "source": [
    "%lprun -f chunked_sql chunked_sql(connection, td)"
   ]
  },
  {
   "cell_type": "code",
   "execution_count": 23,
   "metadata": {},
   "outputs": [
    {
     "data": {
      "text/plain": [
       "array([[-1.25677192,  1.31062673, -0.76123246, ...,  0.43792086,\n",
       "         0.77241304, -1.01673708],\n",
       "       [ 0.35127832, -0.83995198, -1.00729763, ...,  1.33800725,\n",
       "         2.28597173,  0.27582778],\n",
       "       [-1.47702389, -2.62370182, -1.02661425, ...,  2.47913286,\n",
       "        -2.03562435,  0.53663893],\n",
       "       ..., \n",
       "       [ 0.76223409, -0.24053633,  0.91032359, ...,  0.71536533,\n",
       "        -0.99861447,  0.01770397],\n",
       "       [-0.25761616,  0.92855177,  0.52754937, ...,  1.41697664,\n",
       "         0.69969227,  0.77661552],\n",
       "       [-1.12170881,  0.16243831, -0.96426112, ...,  1.15192576,\n",
       "         0.48580664, -0.89289491]])"
      ]
     },
     "execution_count": 23,
     "metadata": {},
     "output_type": "execute_result"
    }
   ],
   "source": [
    "td.values"
   ]
  }
 ],
 "metadata": {
  "kernelspec": {
   "display_name": "Python 3",
   "language": "python",
   "name": "python3"
  },
  "language_info": {
   "codemirror_mode": {
    "name": "ipython",
    "version": 3
   },
   "file_extension": ".py",
   "mimetype": "text/x-python",
   "name": "python",
   "nbconvert_exporter": "python",
   "pygments_lexer": "ipython3",
   "version": "3.6.1"
  }
 },
 "nbformat": 4,
 "nbformat_minor": 2
}
